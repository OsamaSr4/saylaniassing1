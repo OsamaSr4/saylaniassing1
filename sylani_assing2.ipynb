{
 "cells": [
  {
   "cell_type": "code",
   "execution_count": 1,
   "metadata": {},
   "outputs": [
    {
     "data": {
      "text/plain": [
       "3"
      ]
     },
     "execution_count": 1,
     "metadata": {},
     "output_type": "execute_result"
    }
   ],
   "source": [
    "a = [\"osama\",\"saad\",\"zaeem\"]\n",
    "len(a)"
   ]
  },
  {
   "cell_type": "code",
   "execution_count": 3,
   "metadata": {},
   "outputs": [
    {
     "data": {
      "text/plain": [
       "10"
      ]
     },
     "execution_count": 3,
     "metadata": {},
     "output_type": "execute_result"
    }
   ],
   "source": [
    "a = [1,2,3,4]\n",
    "sum(a)"
   ]
  },
  {
   "cell_type": "code",
   "execution_count": 5,
   "metadata": {},
   "outputs": [
    {
     "data": {
      "text/plain": [
       "99999999"
      ]
     },
     "execution_count": 5,
     "metadata": {},
     "output_type": "execute_result"
    }
   ],
   "source": [
    "high = [100,999,10000,99999999,898960]\n",
    "max(high)"
   ]
  },
  {
   "cell_type": "code",
   "execution_count": 15,
   "metadata": {},
   "outputs": [
    {
     "name": "stdout",
     "output_type": "stream",
     "text": [
      "1\n",
      "1\n",
      "2\n",
      "3\n"
     ]
    }
   ],
   "source": [
    "a = [1, 1, 2, 3, 5, 8, 13, 21, 34, 55, 89]\n",
    "for i in range(len(a)): \n",
    " if a[i]<5: \n",
    "  print(a[i])\n",
    "\n",
    " \n"
   ]
  },
  {
   "cell_type": "code",
   "execution_count": 31,
   "metadata": {},
   "outputs": [
    {
     "name": "stdout",
     "output_type": "stream",
     "text": [
      "1\n",
      "1\n",
      "2\n",
      "3\n",
      "5\n"
     ]
    }
   ],
   "source": [
    "a = [1, 1, 2, 3, 5, 8, 13, 21, 34, 55, 89]\n",
    "\n",
    "for i in range(len(a)):\n",
    " if a[i]<=5: \n",
    "  print(a[i]) "
   ]
  },
  {
   "cell_type": "code",
   "execution_count": 5,
   "metadata": {},
   "outputs": [
    {
     "name": "stdout",
     "output_type": "stream",
     "text": [
      "enter maths num : 70\n",
      "enter eng num : 90\n",
      "enter science num : 90\n",
      "enter social studies num : 89\n",
      "enter arts num : 87\n",
      "your total num is 426\n",
      "your grade is A+\n"
     ]
    }
   ],
   "source": [
    "a = int( input (\"enter maths num : \"))\n",
    "b = int( input (\"enter eng num : \"))\n",
    "c = int( input (\"enter science num : \"))\n",
    "d = int( input (\"enter social studies num : \"))\n",
    "e = int( input (\"enter arts num : \"))\n",
    "total = a+b+c+d+e\n",
    "print ( \"your total num is \"+ str(total))\n",
    "per = total*100/500 \n",
    "\n",
    "if per>= 80 :\n",
    " print(\"your grade is A+\")\n",
    "elif per >= 70  :\n",
    " print(\"your grade is A\")\n",
    "elif per >= 60  :\n",
    " print(\"your grade is B \")\n",
    "else :\n",
    " print(\"your grade is F\")"
   ]
  },
  {
   "cell_type": "code",
   "execution_count": 11,
   "metadata": {},
   "outputs": [
    {
     "name": "stdout",
     "output_type": "stream",
     "text": [
      "110\n",
      "even\n"
     ]
    }
   ],
   "source": [
    "a = int (input ())\n",
    "if a%2 == 0:\n",
    " print(\"even\")\n",
    "else :\n",
    " print(\"odd\")   \n"
   ]
  },
  {
   "cell_type": "code",
   "execution_count": null,
   "metadata": {},
   "outputs": [],
   "source": []
  },
  {
   "cell_type": "code",
   "execution_count": null,
   "metadata": {},
   "outputs": [],
   "source": []
  }
 ],
 "metadata": {
  "kernelspec": {
   "display_name": "Python 3",
   "language": "python",
   "name": "python3"
  },
  "language_info": {
   "codemirror_mode": {
    "name": "ipython",
    "version": 3
   },
   "file_extension": ".py",
   "mimetype": "text/x-python",
   "name": "python",
   "nbconvert_exporter": "python",
   "pygments_lexer": "ipython3",
   "version": "3.7.4"
  }
 },
 "nbformat": 4,
 "nbformat_minor": 2
}
